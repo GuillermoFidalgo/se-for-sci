{
 "cells": [
  {
   "cell_type": "markdown",
   "id": "9699b1b3",
   "metadata": {},
   "source": [
    "# Using Compiled Languages \n",
    "\n",
    "## First steps with python using numba"
   ]
  },
  {
   "cell_type": "code",
   "execution_count": 1,
   "id": "b1658d30",
   "metadata": {},
   "outputs": [],
   "source": [
    "import numpy as np\n",
    "import numba"
   ]
  },
  {
   "cell_type": "markdown",
   "id": "9cd08424",
   "metadata": {},
   "source": [
    "Python is a nice scripting object-oriented language but it can run into performance issues. We will see a few examples below. To get better performance, one uses compiled languages, such a C, C++ and Fortran. We will also use the numba python library that allows one to perform \"just in time\" compilations. We will however explore in more details in this lecture how to compile directly C and Fortran codes. We will see in a next lecture how one can interface these compiled functions directly to python.\n",
    "\n",
    "Let's start first with a simple example to see how bad python performs when not used properly. We define a simple function that uses a python loop, which is generally a very bad idea with python."
   ]
  },
  {
   "cell_type": "code",
   "execution_count": 2,
   "id": "355d90ac",
   "metadata": {},
   "outputs": [],
   "source": [
    "def f_simple(X):\n",
    "    Y = np.empty_like(X)\n",
    "    for i in range(len(X)):\n",
    "        x = X[i]\n",
    "        Y[i] = x + x**2 + x**3 + x**4 + x**5 + x**6 + x**7 + x**8\n",
    "    return Y"
   ]
  },
  {
   "cell_type": "markdown",
   "id": "1e5a9780",
   "metadata": {},
   "source": [
    "We create a random numpy array of moderate size."
   ]
  },
  {
   "cell_type": "code",
   "execution_count": 3,
   "id": "909df590",
   "metadata": {},
   "outputs": [],
   "source": [
    "x=np.random.normal(size=1_000_000)"
   ]
  },
  {
   "cell_type": "markdown",
   "id": "c926be30",
   "metadata": {},
   "source": [
    "We finally call the function and time it using the ``%%timeit`` python function."
   ]
  },
  {
   "cell_type": "code",
   "execution_count": 4,
   "id": "53700908",
   "metadata": {},
   "outputs": [
    {
     "name": "stdout",
     "output_type": "stream",
     "text": [
      "1.82 s ± 14.6 ms per loop (mean ± std. dev. of 7 runs, 1 loop each)\n"
     ]
    }
   ],
   "source": [
    "%%timeit \n",
    "f_simple(x)"
   ]
  },
  {
   "cell_type": "markdown",
   "id": "b1f3a99e",
   "metadata": {},
   "source": [
    "We see that it called the timing routine 7 times, each timing using only 1 call to the function. We can change this to see how robust the time measurments are. The standard deviation seems indeed a bit large."
   ]
  },
  {
   "cell_type": "code",
   "execution_count": 5,
   "id": "3bb97742",
   "metadata": {},
   "outputs": [
    {
     "name": "stdout",
     "output_type": "stream",
     "text": [
      "1.84 s ± 1.23 ms per loop (mean ± std. dev. of 4 runs, 4 loops each)\n"
     ]
    }
   ],
   "source": [
    "%%timeit -r 4 -n 4\n",
    "f_simple(x)"
   ]
  },
  {
   "cell_type": "markdown",
   "id": "bbc4aa95",
   "metadata": {},
   "source": [
    "We see that the measurement seems now more consistent with a smaller standard deviation. \n",
    "\n",
    "Let's now try to use more proper python programming, avoiding using explicit loops, but direct numpy array notations instead."
   ]
  },
  {
   "cell_type": "code",
   "execution_count": 6,
   "id": "95827027",
   "metadata": {},
   "outputs": [],
   "source": [
    "def f_numpy(X):\n",
    "    return X + X**2 + X**3 + X**4 + X**5 + X**6 + X**7 + X**8"
   ]
  },
  {
   "cell_type": "code",
   "execution_count": 7,
   "id": "81137a65",
   "metadata": {},
   "outputs": [
    {
     "name": "stdout",
     "output_type": "stream",
     "text": [
      "357 ms ± 963 µs per loop (mean ± std. dev. of 4 runs, 4 loops each)\n"
     ]
    }
   ],
   "source": [
    "%%timeit -r 4 -n 4\n",
    "f_numpy(x)"
   ]
  },
  {
   "cell_type": "markdown",
   "id": "895362b1",
   "metadata": {},
   "source": [
    "Wow! It is indeed much faster. Too fast even... Let's use a bigger array."
   ]
  },
  {
   "cell_type": "code",
   "execution_count": 8,
   "id": "4814d0f1",
   "metadata": {},
   "outputs": [],
   "source": [
    "x=np.random.normal(size=10_000_000)"
   ]
  },
  {
   "cell_type": "code",
   "execution_count": 9,
   "id": "f16278aa",
   "metadata": {},
   "outputs": [
    {
     "name": "stdout",
     "output_type": "stream",
     "text": [
      "3.64 s ± 19 ms per loop (mean ± std. dev. of 4 runs, 4 loops each)\n"
     ]
    }
   ],
   "source": [
    "%%timeit -r 4 -n 4\n",
    "f_numpy(x)"
   ]
  },
  {
   "cell_type": "markdown",
   "id": "841febb4",
   "metadata": {},
   "source": [
    "These multiple powers are probably slow to evaluate. Let's use a nice trick to avoid having to call these expensive operations."
   ]
  },
  {
   "cell_type": "code",
   "execution_count": 10,
   "id": "5ee786a1",
   "metadata": {},
   "outputs": [],
   "source": [
    "def f_numpy_2(X):\n",
    "    return X*(1 + X*(1 + X*(1 + X*(1 + X*(1 + X*(1 + X*(1 + X)))))))"
   ]
  },
  {
   "cell_type": "code",
   "execution_count": 11,
   "id": "72f59981",
   "metadata": {},
   "outputs": [
    {
     "name": "stdout",
     "output_type": "stream",
     "text": [
      "143 ms ± 644 µs per loop (mean ± std. dev. of 4 runs, 4 loops each)\n"
     ]
    }
   ],
   "source": [
    "%%timeit -r 4 -n 4\n",
    "f_numpy_2(x)"
   ]
  },
  {
   "cell_type": "markdown",
   "id": "5f7f9de4",
   "metadata": {},
   "source": [
    "Wow! Another dramatic improvement!\n",
    "\n",
    "We kind of reached the maximum we can do using python alone. We will now try to use a nice python package called ``numba`` that allows one to perform _just in time compilation_. What ``numba`` does is to first convert the python function into a C code and then to compile this C code on the fly. The performance of the resulting function is usually much higher. Since the function is now compiled, you don't need to worry about using loops directly anymore. In fact, to allow ``numba`` to translate the python instructions into C instructions, it is recommended to use explicit loops. \n",
    "\n",
    "Let see how we can optimize our function using ``numba``."
   ]
  },
  {
   "cell_type": "code",
   "execution_count": 12,
   "id": "03b91a8f",
   "metadata": {},
   "outputs": [],
   "source": [
    "@numba.jit(nopython=True)\n",
    "def f_numba(X):\n",
    "    Y = np.empty_like(X)\n",
    "    for i in range(len(X)):\n",
    "        x = X[i]\n",
    "        Y[i] = x + x**2 + x**3 + x**4 + x**5 + x**6 + x**7 + x**8\n",
    "#        Y[i] = x*(1 + x*(1 + x*(1 + x*(1 + x*(1 + x*(1 + x*(1 + x)))))))\n",
    "    return Y"
   ]
  },
  {
   "cell_type": "markdown",
   "id": "3ca02622",
   "metadata": {},
   "source": [
    "Note that we have used the _decorator_ ``@numba.jit`` that tells ``numba`` to translate the function in C and compile it. ``numba`` tries to translate everything in C. If it cannot, it will keep the python code as is. Using the option ``nopython=True`` forces ``numba`` to translate in C. If ``numba`` fails to do it, an error will follow.\n",
    "\n",
    "Let's now time the resulting _compiled_ function."
   ]
  },
  {
   "cell_type": "code",
   "execution_count": 13,
   "id": "6de47886",
   "metadata": {},
   "outputs": [
    {
     "name": "stdout",
     "output_type": "stream",
     "text": [
      "The slowest run took 8.62 times longer than the fastest. This could mean that an intermediate result is being cached.\n",
      "63.5 ms ± 72.1 ms per loop (mean ± std. dev. of 4 runs, 4 loops each)\n"
     ]
    }
   ],
   "source": [
    "%%timeit -r 4 -n 4\n",
    "f_numba(x)"
   ]
  },
  {
   "cell_type": "markdown",
   "id": "73c4da2d",
   "metadata": {},
   "source": [
    "This is now really fast! This is the main advantage of using a compiled language. The standard deviation is quite large when compared to the mean. This is because the timer is also counting the extra time ``numba`` needs to compile the function. To avoid this, we can use an even bigger array. Note that we could also have used the ``cache=True`` option of ``numba`` but this is beyond the scope of this lecture. "
   ]
  },
  {
   "cell_type": "code",
   "execution_count": 14,
   "id": "926e9460",
   "metadata": {},
   "outputs": [],
   "source": [
    "x=np.random.normal(size=100_000_000)"
   ]
  },
  {
   "cell_type": "code",
   "execution_count": 15,
   "id": "7f7c2227",
   "metadata": {},
   "outputs": [
    {
     "name": "stdout",
     "output_type": "stream",
     "text": [
      "238 ms ± 476 µs per loop (mean ± std. dev. of 4 runs, 4 loops each)\n"
     ]
    }
   ],
   "source": [
    "%%timeit -r 4 -n 4\n",
    "f_numba(x)"
   ]
  },
  {
   "cell_type": "markdown",
   "id": "576a2fab",
   "metadata": {},
   "source": [
    "Using a compiler also allows us to use parallel computing. We will see in future lectures how to program in parallel. For the time being, we just trust ``numba`` to do it for us. To parallelize a ``numba`` function, just add the ``parallel=True`` option and replace the ``range`` function defining the loop by the parallel function ``numba.prange`` which defines the method to divide up the loop into parallel tasks."
   ]
  },
  {
   "cell_type": "code",
   "execution_count": 16,
   "id": "2bc98926",
   "metadata": {},
   "outputs": [],
   "source": [
    "@numba.jit(nopython=True, parallel=True)\n",
    "def f_numba_para(X):\n",
    "    Y = np.empty_like(X)\n",
    "    for i in numba.prange(len(X)):\n",
    "        x = X[i]\n",
    "        Y[i] = x + x**2 + x**3 + x**4 + x**5 + x**6 + x**7 + x**8\n",
    "    return Y"
   ]
  },
  {
   "cell_type": "code",
   "execution_count": 19,
   "id": "33e055e6",
   "metadata": {},
   "outputs": [
    {
     "name": "stdout",
     "output_type": "stream",
     "text": [
      "26 ms ± 276 µs per loop (mean ± std. dev. of 4 runs, 40 loops each)\n"
     ]
    }
   ],
   "source": [
    "%%timeit -r 4 -n 40\n",
    "f_numba_para(x)"
   ]
  },
  {
   "cell_type": "markdown",
   "id": "454d2a21",
   "metadata": {},
   "source": [
    "This ends our journey towards better and better performance using python. We started with an explicit loop within a pure python function and the pretty awful timing of roughly 200s. We ended with a compiled parallel C code generated by ``numba`` with an amazing 10000x (yes 10 thousands!) speedup with roughly 20ms of execution time.  "
   ]
  },
  {
   "cell_type": "markdown",
   "id": "c9e18807",
   "metadata": {},
   "source": [
    "## Linux and the Terminal window\n",
    "\n",
    "To understand better what ``numba`` is doing under the hood, we now switch to using the Terminal window. We will edit our C or Fortran codes using an editor (could be ``vim`` or ``emacs``). We will then compile our C or Fortran code using a compiler. Before we get there, let's first get some practice in the Terminal window.\n",
    "\n",
    "In your jupyter notebook Home page, hit the **New** button, this time choosing the **Terminal** option.\n",
    "You should see a prompt like ``$`` and a cursor. Just type:\n",
    "``$ ls``\n",
    "In this jupyter notebook, you can execute all the same command line instructions using a ``!`` before."
   ]
  },
  {
   "cell_type": "code",
   "execution_count": 21,
   "id": "f0080b55",
   "metadata": {},
   "outputs": [
    {
     "name": "stdout",
     "output_type": "stream",
     "text": [
      "Compiled_Languages.ipynb  compiled.md\r\n"
     ]
    }
   ],
   "source": [
    "!ls"
   ]
  },
  {
   "cell_type": "markdown",
   "id": "b74abce7",
   "metadata": {},
   "source": [
    "Here is a list of very useful Linux commands that you have to know by heart.\n",
    "\n",
    "| Command | Examples | Description |\n",
    "| :----------- | :----------- | :----------- |\n",
    "| ``ls`` | ``ls``<br> ``ls -als`` | List files in current directory <br> List in long format including hidden files and file sizes|\n",
    "| ``cd`` | ``cd ..`` <br> ``cd week9`` <br> ``cd ~bob/se-for-sci/content``| Change to parent directory <br> Change ot directory ``week9`` <br> Change to target directory inside Bob's SE course directory|\n",
    "| ``mkdir`` | ``mkdir test``| Creating a new directory called ``test`` |\n",
    "| ``rmdir`` | ``rmdir test`` | Removing the directory called ``test`` |\n",
    "| ``cp`` | ``cp file1.txt file2.txt`` <br> ``cp ~bob/file1.txt .`` <br> ``cp ~bob/* .`` <br> ``cp -r ~bob/se-for-sci .`` | Copy ``file1.txt`` into a new file called ``file2.txt`` <br> Copy the file called ``file1.txt`` in Bob's home directory into a new file locally keeping the same name <br> Copy all the files in Bob's home directory locally giving them the same name <br> Copy recursively the entire content of Bob's SE course directory locally keeping the same names | \n",
    "| ``rm`` | ``rm file1.txt`` <br> ``rm -rf *`` | Remove only the file called ``file1.txt`` <br> Remove recursively all files and directories without asking permission (very dangerous) |\n",
    "| ``mv`` | ``mv ~bob/file1.txt file2.txt`` | Move one file into another location and with a new name |\n",
    "| ``more`` | ``more file1.txt`` | Look at the file content one page at a time |\n",
    "| ``man`` | ``man more`` | Look at the manual for a given Linux command |\n",
    "| ``grep`` | ``grep Hello file1.txt`` | Search for string ``Hello`` inside the file ``file1.txt`` |"
   ]
  },
  {
   "cell_type": "code",
   "execution_count": 1,
   "id": "cb7035eb",
   "metadata": {},
   "outputs": [
    {
     "name": "stdout",
     "output_type": "stream",
     "text": [
      "# Intro to compiled languages\r\n",
      "\r\n",
      "## Intro to C++/Fortran\r\n",
      "\r\n",
      "## Intro to compilers and linkers\r\n",
      "\r\n",
      "## Intro to C++ build systems (like CMake)\r\n",
      "\r\n",
      "## Intro to C++ tooling\r\n",
      "\r\n",
      "## Setting up a compiled project\r\n",
      "\r\n",
      "## Templates and compile time programming\r\n"
     ]
    }
   ],
   "source": [
    "!more compiled.md"
   ]
  },
  {
   "cell_type": "markdown",
   "id": "66ec9488",
   "metadata": {},
   "source": [
    "## Compiling a C code"
   ]
  },
  {
   "cell_type": "code",
   "execution_count": 2,
   "id": "22029be9",
   "metadata": {},
   "outputs": [
    {
     "name": "stdout",
     "output_type": "stream",
     "text": [
      "Writing hello.c\n"
     ]
    }
   ],
   "source": [
    "%%writefile hello.c\n",
    "#include <stdio.h>\n",
    "int main() {\n",
    "   // This is a comment \n",
    "   printf(\"Hello, World!\");\n",
    "   return 0;\n",
    "}"
   ]
  },
  {
   "cell_type": "code",
   "execution_count": 4,
   "id": "b1d8a8c3",
   "metadata": {},
   "outputs": [],
   "source": [
    "!gcc hello.c"
   ]
  },
  {
   "cell_type": "code",
   "execution_count": 5,
   "id": "2484e680",
   "metadata": {},
   "outputs": [
    {
     "name": "stdout",
     "output_type": "stream",
     "text": [
      "a.out  Compiled_Languages.ipynb  compiled.md  ex.sh  ex.sh~  hello.c\r\n"
     ]
    }
   ],
   "source": [
    "!ls"
   ]
  },
  {
   "cell_type": "code",
   "execution_count": 6,
   "id": "2e4b4110",
   "metadata": {},
   "outputs": [],
   "source": [
    "!gcc hello.c -o hello"
   ]
  },
  {
   "cell_type": "code",
   "execution_count": 7,
   "id": "fa3610f6",
   "metadata": {},
   "outputs": [
    {
     "name": "stdout",
     "output_type": "stream",
     "text": [
      "a.out  Compiled_Languages.ipynb  compiled.md  ex.sh  ex.sh~  hello  hello.c\r\n"
     ]
    }
   ],
   "source": [
    "!ls"
   ]
  },
  {
   "cell_type": "code",
   "execution_count": 8,
   "id": "bc21ea29",
   "metadata": {},
   "outputs": [
    {
     "name": "stdout",
     "output_type": "stream",
     "text": [
      "Hello, World!"
     ]
    }
   ],
   "source": [
    "!./hello"
   ]
  },
  {
   "cell_type": "code",
   "execution_count": 19,
   "id": "c60191c2",
   "metadata": {},
   "outputs": [
    {
     "name": "stdout",
     "output_type": "stream",
     "text": [
      "Overwriting power.c\n"
     ]
    }
   ],
   "source": [
    "%%writefile power.c\n",
    "#include <stdio.h>\n",
    "#include <stdlib.h>\n",
    "#include <math.h>\n",
    "\n",
    "int main(int argc, char *argv[])\n",
    "{\n",
    "    int i,n=100000000;\n",
    "    float x,y;\n",
    "    \n",
    "    printf(\"%i\\n\",n);\n",
    "    for (i=0;i<n;i++){\n",
    "        x=rand();\n",
    "        y=x+pow(x,2)+pow(x,3)+pow(x,4)+pow(x,5)+pow(x,6)+pow(x,7)+pow(x,8);\n",
    "    }\n",
    "    return 0;\n",
    "}"
   ]
  },
  {
   "cell_type": "code",
   "execution_count": 22,
   "id": "5fe9eb6c",
   "metadata": {},
   "outputs": [],
   "source": [
    "!gcc -O3 power.c -o power -lm"
   ]
  },
  {
   "cell_type": "code",
   "execution_count": 23,
   "id": "615a925c",
   "metadata": {},
   "outputs": [
    {
     "name": "stdout",
     "output_type": "stream",
     "text": [
      "100000000\n",
      "\n",
      "real\t0m26.285s\n",
      "user\t0m26.218s\n",
      "sys\t0m0.003s\n"
     ]
    }
   ],
   "source": [
    "!time ./power"
   ]
  },
  {
   "cell_type": "code",
   "execution_count": 68,
   "id": "ab5b7c5a",
   "metadata": {},
   "outputs": [
    {
     "name": "stdout",
     "output_type": "stream",
     "text": [
      "Overwriting mult.c\n"
     ]
    }
   ],
   "source": [
    "%%writefile mult.c\n",
    "#include <stdio.h>\n",
    "#include <stdlib.h>\n",
    "\n",
    "int main(int argc, char *argv[])\n",
    "{\n",
    "    int i,n=100000000;\n",
    "    float x,y;\n",
    "    \n",
    "    printf(\"%i\\n\",n);\n",
    "    for (i=0;i<n;i++){\n",
    "        x=rand();\n",
    "        y=x*(1+x*(1+x*(1+x*(1+x*(1+x*(1+x*(1+x)))))));\n",
    "    }\n",
    "    return 0;\n",
    "}\n"
   ]
  },
  {
   "cell_type": "code",
   "execution_count": 69,
   "id": "6f05a982",
   "metadata": {},
   "outputs": [],
   "source": [
    "!gcc -O3 mult.c -o mult"
   ]
  },
  {
   "cell_type": "code",
   "execution_count": 70,
   "id": "277df444",
   "metadata": {},
   "outputs": [
    {
     "name": "stdout",
     "output_type": "stream",
     "text": [
      "100000000\n",
      "\n",
      "real\t0m0.599s\n",
      "user\t0m0.596s\n",
      "sys\t0m0.001s\n"
     ]
    }
   ],
   "source": [
    "!time ./mult"
   ]
  },
  {
   "cell_type": "markdown",
   "id": "2a7e764f",
   "metadata": {},
   "source": [
    "## Compiling a Fortran code"
   ]
  },
  {
   "cell_type": "code",
   "execution_count": 31,
   "id": "9e00adf4",
   "metadata": {},
   "outputs": [
    {
     "name": "stdout",
     "output_type": "stream",
     "text": [
      "Writing hello.f90\n"
     ]
    }
   ],
   "source": [
    "%%writefile hello.f90\n",
    "program hello\n",
    "\n",
    "write(*,*)\"Hello world!\"\n",
    "\n",
    "end program hello"
   ]
  },
  {
   "cell_type": "code",
   "execution_count": 32,
   "id": "655ff812",
   "metadata": {},
   "outputs": [],
   "source": [
    "!gfortran hello.f90 -o hello"
   ]
  },
  {
   "cell_type": "code",
   "execution_count": 33,
   "id": "fa39be47",
   "metadata": {},
   "outputs": [
    {
     "name": "stdout",
     "output_type": "stream",
     "text": [
      " Hello world!\r\n"
     ]
    }
   ],
   "source": [
    "!./hello"
   ]
  },
  {
   "cell_type": "code",
   "execution_count": 71,
   "id": "4dcda64b",
   "metadata": {},
   "outputs": [
    {
     "name": "stdout",
     "output_type": "stream",
     "text": [
      "Overwriting power.f90\n"
     ]
    }
   ],
   "source": [
    "%%writefile power.f90\n",
    "program power\n",
    "\n",
    "    real(kind=8)::x, y\n",
    "    integer::i,n=100000000\n",
    "\n",
    "    write(*,*)n\n",
    "    do i=1,n\n",
    "        x=rand()\n",
    "        y=x*(1+x*(1+x*(1+x*(1+x*(1+x*(1+x*(1+x)))))))\n",
    "    enddo\n",
    "    \n",
    "end program power"
   ]
  },
  {
   "cell_type": "code",
   "execution_count": 72,
   "id": "f4f0dc3f",
   "metadata": {},
   "outputs": [],
   "source": [
    "!gfortran -O3 power.f90 -o power"
   ]
  },
  {
   "cell_type": "code",
   "execution_count": 73,
   "id": "d4e3623c",
   "metadata": {},
   "outputs": [
    {
     "name": "stdout",
     "output_type": "stream",
     "text": [
      "   100000000\n",
      "\n",
      "real\t0m0.484s\n",
      "user\t0m0.482s\n",
      "sys\t0m0.000s\n"
     ]
    }
   ],
   "source": [
    "!time ./power"
   ]
  },
  {
   "cell_type": "markdown",
   "id": "2967182d",
   "metadata": {},
   "source": [
    "## Compiling a C++ code\n"
   ]
  },
  {
   "cell_type": "code",
   "execution_count": 52,
   "id": "2cfa65b9",
   "metadata": {},
   "outputs": [
    {
     "name": "stdout",
     "output_type": "stream",
     "text": [
      "Overwriting hello.cpp\n"
     ]
    }
   ],
   "source": [
    "%%writefile hello.cpp\n",
    "#include <iostream>\n",
    "\n",
    "int main() {\n",
    "// This is a comment\n",
    "    std::cout << \"Hello World!\";\n",
    "    return 0;\n",
    "}"
   ]
  },
  {
   "cell_type": "code",
   "execution_count": 53,
   "id": "844165a8",
   "metadata": {},
   "outputs": [],
   "source": [
    "!gcc hello.cpp -o hello -lstdc++"
   ]
  },
  {
   "cell_type": "code",
   "execution_count": 54,
   "id": "acdf5a00",
   "metadata": {},
   "outputs": [
    {
     "name": "stdout",
     "output_type": "stream",
     "text": [
      "Hello World!"
     ]
    }
   ],
   "source": [
    "!./hello"
   ]
  },
  {
   "cell_type": "code",
   "execution_count": 74,
   "id": "3ea47742",
   "metadata": {},
   "outputs": [
    {
     "name": "stdout",
     "output_type": "stream",
     "text": [
      "Overwriting mult.cpp\n"
     ]
    }
   ],
   "source": [
    "%%writefile mult.cpp\n",
    "#include <iostream>\n",
    "\n",
    "int main(int argc, char *argv[])\n",
    "{\n",
    "    int i,n=100000000;\n",
    "    float x,y;\n",
    "    \n",
    "    std::cout << n;\n",
    "    for (i=0;i<n;i++){\n",
    "        x=rand();\n",
    "        y=x*(1+x*(1+x*(1+x*(1+x*(1+x*(1+x*(1+x)))))));\n",
    "    }\n",
    "    return 0;\n",
    "}\n"
   ]
  },
  {
   "cell_type": "code",
   "execution_count": 75,
   "id": "9b6c72ed",
   "metadata": {},
   "outputs": [],
   "source": [
    "!gcc -O3 mult.cpp -o mult -lstdc++"
   ]
  },
  {
   "cell_type": "code",
   "execution_count": 76,
   "id": "5396b8b5",
   "metadata": {},
   "outputs": [
    {
     "name": "stdout",
     "output_type": "stream",
     "text": [
      "100000000\r\n",
      "real\t0m0.613s\r\n",
      "user\t0m0.609s\r\n",
      "sys\t0m0.002s\r\n"
     ]
    }
   ],
   "source": [
    "!time ./mult"
   ]
  },
  {
   "cell_type": "markdown",
   "id": "0370c7d6",
   "metadata": {},
   "source": [
    "## Building a code with more than one file"
   ]
  },
  {
   "cell_type": "code",
   "execution_count": 93,
   "id": "f73f2607",
   "metadata": {},
   "outputs": [
    {
     "name": "stdout",
     "output_type": "stream",
     "text": [
      "Overwriting hello.f90\n"
     ]
    }
   ],
   "source": [
    "%%writefile hello.f90\n",
    "program main\n",
    "    \n",
    "    integer :: i=1\n",
    "\n",
    "    call greetings(i)\n",
    "\n",
    "end program main"
   ]
  },
  {
   "cell_type": "code",
   "execution_count": 94,
   "id": "47b6a420",
   "metadata": {},
   "outputs": [
    {
     "name": "stdout",
     "output_type": "stream",
     "text": [
      "Overwriting greet.f90\n"
     ]
    }
   ],
   "source": [
    "%%writefile greet.f90\n",
    "subroutine greetings(i)\n",
    "\n",
    "    integer, intent(in) :: i\n",
    "\n",
    "    write(*,*)\"Hello world! \",i\n",
    "\n",
    "end subroutine greetings"
   ]
  },
  {
   "cell_type": "code",
   "execution_count": 95,
   "id": "6135da95",
   "metadata": {},
   "outputs": [],
   "source": [
    "!gfortran -c hello.f90"
   ]
  },
  {
   "cell_type": "code",
   "execution_count": 96,
   "id": "c3b3e65d",
   "metadata": {},
   "outputs": [],
   "source": [
    "!gfortran -c greet.f90"
   ]
  },
  {
   "cell_type": "code",
   "execution_count": 97,
   "id": "73a4e5ce",
   "metadata": {},
   "outputs": [
    {
     "name": "stdout",
     "output_type": "stream",
     "text": [
      "a.out\t\t\t  ex.sh~     hello.c\tmult\t  power.c\r\n",
      "Compiled_Languages.ipynb  greet.f90  hello.cpp\tmult.c\t  power.f90\r\n",
      "compiled.md\t\t  greet.o    hello.f90\tmult.cpp  power_para.f90\r\n",
      "ex.sh\t\t\t  hello      hello.o\tpower\r\n"
     ]
    }
   ],
   "source": [
    "!ls"
   ]
  },
  {
   "cell_type": "code",
   "execution_count": 98,
   "id": "01b8d8a6",
   "metadata": {},
   "outputs": [],
   "source": [
    "!gfortran hello.o greet.o -o hello "
   ]
  },
  {
   "cell_type": "code",
   "execution_count": 99,
   "id": "c2c7c780",
   "metadata": {},
   "outputs": [
    {
     "name": "stdout",
     "output_type": "stream",
     "text": [
      " Hello world!            1\r\n"
     ]
    }
   ],
   "source": [
    "!./hello"
   ]
  },
  {
   "cell_type": "markdown",
   "id": "93774f9f",
   "metadata": {},
   "source": [
    "## Preprocessor directives"
   ]
  },
  {
   "cell_type": "code",
   "execution_count": 101,
   "id": "515e7dd1",
   "metadata": {},
   "outputs": [
    {
     "name": "stdout",
     "output_type": "stream",
     "text": [
      "Overwriting greet.f90\n"
     ]
    }
   ],
   "source": [
    "%%writefile greet.f90\n",
    "subroutine greetings(i)\n",
    "\n",
    "    integer, intent(in) :: i\n",
    "#ifdef FRENCH\n",
    "    write(*,*)\"Bonjour tout le monde !\",i\n",
    "#else\n",
    "    write(*,*)\"Hello world! \",i\n",
    "#endif\n",
    "    \n",
    "end subroutine greetings"
   ]
  },
  {
   "cell_type": "code",
   "execution_count": 113,
   "id": "fa9f6f89",
   "metadata": {},
   "outputs": [],
   "source": [
    "!gfortran -cpp -DFRENCH -c greet.f90"
   ]
  },
  {
   "cell_type": "code",
   "execution_count": 114,
   "id": "b4ce6108",
   "metadata": {},
   "outputs": [],
   "source": [
    "!gfortran hello.o greet.o -o hello "
   ]
  },
  {
   "cell_type": "code",
   "execution_count": 115,
   "id": "02d7cd0c",
   "metadata": {},
   "outputs": [
    {
     "name": "stdout",
     "output_type": "stream",
     "text": [
      " Bonjour tout le monde !           1\r\n"
     ]
    }
   ],
   "source": [
    "!./hello"
   ]
  },
  {
   "cell_type": "code",
   "execution_count": null,
   "id": "7e99a610",
   "metadata": {},
   "outputs": [],
   "source": []
  }
 ],
 "metadata": {
  "kernelspec": {
   "display_name": "Python 3 (ipykernel)",
   "language": "python",
   "name": "python3"
  },
  "language_info": {
   "codemirror_mode": {
    "name": "ipython",
    "version": 3
   },
   "file_extension": ".py",
   "mimetype": "text/x-python",
   "name": "python",
   "nbconvert_exporter": "python",
   "pygments_lexer": "ipython3",
   "version": "3.9.7"
  }
 },
 "nbformat": 4,
 "nbformat_minor": 5
}
