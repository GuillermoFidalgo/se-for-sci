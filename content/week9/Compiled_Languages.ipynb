{
 "cells": [
  {
   "cell_type": "code",
   "execution_count": 1,
   "id": "9d1d5187",
   "metadata": {},
   "outputs": [],
   "source": [
    "import numpy as np\n",
    "import numba"
   ]
  },
  {
   "cell_type": "markdown",
   "id": "9cd08424",
   "metadata": {},
   "source": [
    "Python is a nice scripting object-oriented language but it can run into performance issues. We will see a few examples below. To get better performance, one uses compiled languages, such a C, C++ and Fortran. We will also use the numba python library that allows one to perform \"just in time\" compilations. We will however explore in more details in this lecture how to compile directly C and Fortran codes. We will see in a next lecture how one can interface these compiled functions directly to python.\n",
    "\n",
    "Let's start first with a simple example to see how bad python performs when not used properly. We define a simple function that uses a python loop, which is generally a very bad idea with python."
   ]
  },
  {
   "cell_type": "code",
   "execution_count": 2,
   "id": "355d90ac",
   "metadata": {},
   "outputs": [],
   "source": [
    "def f_simple(X):\n",
    "    Y = np.empty_like(X)\n",
    "    for i in range(len(X)):\n",
    "        x = X[i]\n",
    "        Y[i] = x + x**2 + x**3 + x**4 + x**5 + x**6 + x**7 + x**8\n",
    "    return Y"
   ]
  },
  {
   "cell_type": "markdown",
   "id": "1e5a9780",
   "metadata": {},
   "source": [
    "We create a random numpy array of moderate size."
   ]
  },
  {
   "cell_type": "code",
   "execution_count": 3,
   "id": "909df590",
   "metadata": {},
   "outputs": [],
   "source": [
    "x=np.random.normal(size=1_000_000)"
   ]
  },
  {
   "cell_type": "markdown",
   "id": "c926be30",
   "metadata": {},
   "source": [
    "We finally call the function and time it using the ``%%timeit`` python function."
   ]
  },
  {
   "cell_type": "code",
   "execution_count": 4,
   "id": "53700908",
   "metadata": {},
   "outputs": [
    {
     "name": "stdout",
     "output_type": "stream",
     "text": [
      "1.82 s ± 14.6 ms per loop (mean ± std. dev. of 7 runs, 1 loop each)\n"
     ]
    }
   ],
   "source": [
    "%%timeit \n",
    "f_simple(x)"
   ]
  },
  {
   "cell_type": "markdown",
   "id": "b1f3a99e",
   "metadata": {},
   "source": [
    "We see that it called the timing routine 7 times, each timing using only 1 call to the function. We can change this to see how robust the time measurments are. The standard deviation seems indeed a bit large."
   ]
  },
  {
   "cell_type": "code",
   "execution_count": 5,
   "id": "3bb97742",
   "metadata": {},
   "outputs": [
    {
     "name": "stdout",
     "output_type": "stream",
     "text": [
      "1.84 s ± 1.23 ms per loop (mean ± std. dev. of 4 runs, 4 loops each)\n"
     ]
    }
   ],
   "source": [
    "%%timeit -r 4 -n 4\n",
    "f_simple(x)"
   ]
  },
  {
   "cell_type": "markdown",
   "id": "bbc4aa95",
   "metadata": {},
   "source": [
    "We see that the measurement seems now more consistent with a smaller standard deviation. \n",
    "\n",
    "Let's now try to use more proper python programming, avoiding using explicit loops, but direct numpy array notations instead."
   ]
  },
  {
   "cell_type": "code",
   "execution_count": 6,
   "id": "95827027",
   "metadata": {},
   "outputs": [],
   "source": [
    "def f_numpy(X):\n",
    "    return X + X**2 + X**3 + X**4 + X**5 + X**6 + X**7 + X**8"
   ]
  },
  {
   "cell_type": "code",
   "execution_count": 7,
   "id": "81137a65",
   "metadata": {},
   "outputs": [
    {
     "name": "stdout",
     "output_type": "stream",
     "text": [
      "357 ms ± 963 µs per loop (mean ± std. dev. of 4 runs, 4 loops each)\n"
     ]
    }
   ],
   "source": [
    "%%timeit -r 4 -n 4\n",
    "f_numpy(x)"
   ]
  },
  {
   "cell_type": "markdown",
   "id": "895362b1",
   "metadata": {},
   "source": [
    "Wow! It is indeed much faster. Too fast even... Let's use a bigger array."
   ]
  },
  {
   "cell_type": "code",
   "execution_count": 8,
   "id": "4814d0f1",
   "metadata": {},
   "outputs": [],
   "source": [
    "x=np.random.normal(size=10_000_000)"
   ]
  },
  {
   "cell_type": "code",
   "execution_count": 9,
   "id": "f16278aa",
   "metadata": {},
   "outputs": [
    {
     "name": "stdout",
     "output_type": "stream",
     "text": [
      "3.64 s ± 19 ms per loop (mean ± std. dev. of 4 runs, 4 loops each)\n"
     ]
    }
   ],
   "source": [
    "%%timeit -r 4 -n 4\n",
    "f_numpy(x)"
   ]
  },
  {
   "cell_type": "markdown",
   "id": "841febb4",
   "metadata": {},
   "source": [
    "These multiple powers are probably slow to evaluate. Let's use a nice trick to avoid having to call these expensive operations."
   ]
  },
  {
   "cell_type": "code",
   "execution_count": 10,
   "id": "5ee786a1",
   "metadata": {},
   "outputs": [],
   "source": [
    "def f_numpy_2(X):\n",
    "    return X*(1 + X*(1 + X*(1 + X*(1 + X*(1 + X*(1 + X*(1 + X)))))))"
   ]
  },
  {
   "cell_type": "code",
   "execution_count": 11,
   "id": "72f59981",
   "metadata": {},
   "outputs": [
    {
     "name": "stdout",
     "output_type": "stream",
     "text": [
      "143 ms ± 644 µs per loop (mean ± std. dev. of 4 runs, 4 loops each)\n"
     ]
    }
   ],
   "source": [
    "%%timeit -r 4 -n 4\n",
    "f_numpy_2(x)"
   ]
  },
  {
   "cell_type": "markdown",
   "id": "5f7f9de4",
   "metadata": {},
   "source": [
    "Wow! Another dramatic improvement!\n",
    "\n",
    "We kind of reached the maximum we can do using python alone. We will now try to use a nice python package called ``numba`` that allows one to perform _just in time compilation_. What ``numba`` does is to first convert the python function into a C code and then to compile this C code on the fly. The performance of the resulting function is usually much higher. Since the function is now compiled, you don't need to worry about using loops directly anymore. In fact, to allow ``numba`` to translate the python instructions into C instructions, it is recommended to use explicit loops. \n",
    "\n",
    "Let see how we can optimize our function using ``numba``."
   ]
  },
  {
   "cell_type": "code",
   "execution_count": 12,
   "id": "03b91a8f",
   "metadata": {},
   "outputs": [],
   "source": [
    "@numba.jit(nopython=True)\n",
    "def f_numba(X):\n",
    "    Y = np.empty_like(X)\n",
    "    for i in range(len(X)):\n",
    "        x = X[i]\n",
    "        Y[i] = x + x**2 + x**3 + x**4 + x**5 + x**6 + x**7 + x**8\n",
    "#        Y[i] = x*(1 + x*(1 + x*(1 + x*(1 + x*(1 + x*(1 + x*(1 + x)))))))\n",
    "    return Y"
   ]
  },
  {
   "cell_type": "markdown",
   "id": "23a6ccd0",
   "metadata": {},
   "source": [
    "Note that we have used the _decorator_ ``@numba.jit`` that tells ``numba`` to translate the function in C and compile it. ``numba`` tries to translate everything in C. If it cannot, it will keep the python code as is. Using the option ``nopython=True`` forces ``numba`` to translate in C. If ``numba`` fails to do it, an error will follow.\n",
    "\n",
    "Let's now time the resulting _compiled_ function."
   ]
  },
  {
   "cell_type": "code",
   "execution_count": 13,
   "id": "6de47886",
   "metadata": {},
   "outputs": [
    {
     "name": "stdout",
     "output_type": "stream",
     "text": [
      "The slowest run took 8.62 times longer than the fastest. This could mean that an intermediate result is being cached.\n",
      "63.5 ms ± 72.1 ms per loop (mean ± std. dev. of 4 runs, 4 loops each)\n"
     ]
    }
   ],
   "source": [
    "%%timeit -r 4 -n 4\n",
    "f_numba(x)"
   ]
  },
  {
   "cell_type": "markdown",
   "id": "6d84adb9",
   "metadata": {},
   "source": [
    "This is now really fast! This is the main advantage of using a compiled language. The standard deviation is quite large when compared to the mean. This is because the timer is also counting the extra time ``numba`` needs to compile the function. To avoid this, we can use an even bigger array. Note that we could also have used the ``cache=True`` option of ``numba`` but this is beyond the scope of this lecture. "
   ]
  },
  {
   "cell_type": "code",
   "execution_count": 14,
   "id": "926e9460",
   "metadata": {},
   "outputs": [],
   "source": [
    "x=np.random.normal(size=100_000_000)"
   ]
  },
  {
   "cell_type": "code",
   "execution_count": 15,
   "id": "7f7c2227",
   "metadata": {},
   "outputs": [
    {
     "name": "stdout",
     "output_type": "stream",
     "text": [
      "238 ms ± 476 µs per loop (mean ± std. dev. of 4 runs, 4 loops each)\n"
     ]
    }
   ],
   "source": [
    "%%timeit -r 4 -n 4\n",
    "f_numba(x)"
   ]
  },
  {
   "cell_type": "markdown",
   "id": "add6afbf",
   "metadata": {},
   "source": [
    "Using a compiler also allows us to use parallel computing. We will see in future lectures how to program in parallel. For the time being, we just trust ``numba`` to do it for us. To parallelize a ``numba`` function, just add the ``parallel=True`` option and replace the ``range`` function defining the loop by the parallel function ``numba.prange`` which defines the method to divide up the loop into parallel tasks."
   ]
  },
  {
   "cell_type": "code",
   "execution_count": 16,
   "id": "f6d8b404",
   "metadata": {},
   "outputs": [],
   "source": [
    "@numba.jit(nopython=True, parallel=True)\n",
    "def f_numba_para(X):\n",
    "    Y = np.empty_like(X)\n",
    "    for i in numba.prange(len(X)):\n",
    "        x = X[i]\n",
    "        Y[i] = x + x**2 + x**3 + x**4 + x**5 + x**6 + x**7 + x**8\n",
    "    return Y"
   ]
  },
  {
   "cell_type": "code",
   "execution_count": 19,
   "id": "81738569",
   "metadata": {},
   "outputs": [
    {
     "name": "stdout",
     "output_type": "stream",
     "text": [
      "26 ms ± 276 µs per loop (mean ± std. dev. of 4 runs, 40 loops each)\n"
     ]
    }
   ],
   "source": [
    "%%timeit -r 4 -n 40\n",
    "f_numba_para(x)"
   ]
  },
  {
   "cell_type": "markdown",
   "id": "624d3ec6",
   "metadata": {},
   "source": [
    "This ends our journey towards better and better performance. We started with an explicit loop within a pure python function and the pretty awful timing of roughly 200s. We ended with a compiled parallel C code generated by ``numba`` with an amazing 10000x (yes 10 thousands!) speedup with roughly 20ms of execution time.  "
   ]
  },
  {
   "cell_type": "code",
   "execution_count": null,
   "id": "41501076",
   "metadata": {},
   "outputs": [],
   "source": []
  },
  {
   "cell_type": "code",
   "execution_count": null,
   "id": "b84ebe13",
   "metadata": {},
   "outputs": [],
   "source": []
  },
  {
   "cell_type": "code",
   "execution_count": null,
   "id": "256d1a34",
   "metadata": {},
   "outputs": [],
   "source": []
  },
  {
   "cell_type": "code",
   "execution_count": null,
   "id": "5b7d6d2f",
   "metadata": {},
   "outputs": [],
   "source": []
  },
  {
   "cell_type": "code",
   "execution_count": null,
   "id": "3fdc8e64",
   "metadata": {},
   "outputs": [],
   "source": []
  },
  {
   "cell_type": "code",
   "execution_count": null,
   "id": "55f974bd",
   "metadata": {},
   "outputs": [],
   "source": []
  }
 ],
 "metadata": {
  "kernelspec": {
   "display_name": "Python 3 (ipykernel)",
   "language": "python",
   "name": "python3"
  },
  "language_info": {
   "codemirror_mode": {
    "name": "ipython",
    "version": 3
   },
   "file_extension": ".py",
   "mimetype": "text/x-python",
   "name": "python",
   "nbconvert_exporter": "python",
   "pygments_lexer": "ipython3",
   "version": "3.9.7"
  }
 },
 "nbformat": 4,
 "nbformat_minor": 5
}
